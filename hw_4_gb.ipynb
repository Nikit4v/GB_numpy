{
  "cells":[
    {
      "cell_type":"code",
      "source":[
        "import seaborn as sns\n",
        "import pandas as pd\n",
        "import sklearn.datasets"
      ],
      "execution_count":0,
      "outputs":[
        
      ],
      "metadata":{
        
      }
    },
    {
      "cell_type":"code",
      "source":[
        "boston = sklearn.datasets.load_boston()"
      ],
      "execution_count":0,
      "outputs":[
        
      ],
      "metadata":{
        
      }
    },
    {
      "cell_type":"code",
      "source":[
        "data = boston[\"data\"]\n",
        "target = boston[\"target\"]\n",
        "feature_names = boston[\"feature_names\"]"
      ],
      "execution_count":0,
      "outputs":[
        
      ],
      "metadata":{
        
      }
    },
    {
      "cell_type":"code",
      "source":[
        "from sklearn.model_selection import train_test_split\n",
        "\n",
        "\n",
        "X = pd.DataFrame(data, columns=feature_names)\n",
        "y = pd.DataFrame(target, columns=[\"price\"])\n",
        "\n",
        "X_train, X_test, y_train, y_test = train_test_split(X, y, test_size=0.2, random_state=42)"
      ],
      "execution_count":0,
      "outputs":[
        
      ],
      "metadata":{
        
      }
    },
    {
      "cell_type":"code",
      "source":[
        "from sklearn.preprocessing import StandardScaler\n",
        "\n",
        "scaler = StandardScaler()\n",
        "scaler.fit(X_train, y_train)\n",
        "scaler.transform(X_train)\n",
        "X_train"
      ],
      "execution_count":0,
      "outputs":[
        {
          "data":{
            "text\/html":[
              "<div>\n",
              "<style scoped>\n",
              "    .dataframe tbody tr th:only-of-type {\n",
              "        vertical-align: middle;\n",
              "    }\n",
              "\n",
              "    .dataframe tbody tr th {\n",
              "        vertical-align: top;\n",
              "    }\n",
              "\n",
              "    .dataframe thead th {\n",
              "        text-align: right;\n",
              "    }\n",
              "<\/style>\n",
              "<table border=\"1\" class=\"dataframe\">\n",
              "  <thead>\n",
              "    <tr style=\"text-align: right;\">\n",
              "      <th><\/th>\n",
              "      <th>CRIM<\/th>\n",
              "      <th>ZN<\/th>\n",
              "      <th>INDUS<\/th>\n",
              "      <th>CHAS<\/th>\n",
              "      <th>NOX<\/th>\n",
              "      <th>RM<\/th>\n",
              "      <th>AGE<\/th>\n",
              "      <th>DIS<\/th>\n",
              "      <th>RAD<\/th>\n",
              "      <th>TAX<\/th>\n",
              "      <th>PTRATIO<\/th>\n",
              "      <th>B<\/th>\n",
              "      <th>LSTAT<\/th>\n",
              "    <\/tr>\n",
              "  <\/thead>\n",
              "  <tbody>\n",
              "    <tr>\n",
              "      <th>477<\/th>\n",
              "      <td>15.02340<\/td>\n",
              "      <td>0.0<\/td>\n",
              "      <td>18.10<\/td>\n",
              "      <td>0.0<\/td>\n",
              "      <td>0.6140<\/td>\n",
              "      <td>5.304<\/td>\n",
              "      <td>97.3<\/td>\n",
              "      <td>2.1007<\/td>\n",
              "      <td>24.0<\/td>\n",
              "      <td>666.0<\/td>\n",
              "      <td>20.2<\/td>\n",
              "      <td>349.48<\/td>\n",
              "      <td>24.91<\/td>\n",
              "    <\/tr>\n",
              "    <tr>\n",
              "      <th>15<\/th>\n",
              "      <td>0.62739<\/td>\n",
              "      <td>0.0<\/td>\n",
              "      <td>8.14<\/td>\n",
              "      <td>0.0<\/td>\n",
              "      <td>0.5380<\/td>\n",
              "      <td>5.834<\/td>\n",
              "      <td>56.5<\/td>\n",
              "      <td>4.4986<\/td>\n",
              "      <td>4.0<\/td>\n",
              "      <td>307.0<\/td>\n",
              "      <td>21.0<\/td>\n",
              "      <td>395.62<\/td>\n",
              "      <td>8.47<\/td>\n",
              "    <\/tr>\n",
              "    <tr>\n",
              "      <th>332<\/th>\n",
              "      <td>0.03466<\/td>\n",
              "      <td>35.0<\/td>\n",
              "      <td>6.06<\/td>\n",
              "      <td>0.0<\/td>\n",
              "      <td>0.4379<\/td>\n",
              "      <td>6.031<\/td>\n",
              "      <td>23.3<\/td>\n",
              "      <td>6.6407<\/td>\n",
              "      <td>1.0<\/td>\n",
              "      <td>304.0<\/td>\n",
              "      <td>16.9<\/td>\n",
              "      <td>362.25<\/td>\n",
              "      <td>7.83<\/td>\n",
              "    <\/tr>\n",
              "    <tr>\n",
              "      <th>423<\/th>\n",
              "      <td>7.05042<\/td>\n",
              "      <td>0.0<\/td>\n",
              "      <td>18.10<\/td>\n",
              "      <td>0.0<\/td>\n",
              "      <td>0.6140<\/td>\n",
              "      <td>6.103<\/td>\n",
              "      <td>85.1<\/td>\n",
              "      <td>2.0218<\/td>\n",
              "      <td>24.0<\/td>\n",
              "      <td>666.0<\/td>\n",
              "      <td>20.2<\/td>\n",
              "      <td>2.52<\/td>\n",
              "      <td>23.29<\/td>\n",
              "    <\/tr>\n",
              "    <tr>\n",
              "      <th>19<\/th>\n",
              "      <td>0.72580<\/td>\n",
              "      <td>0.0<\/td>\n",
              "      <td>8.14<\/td>\n",
              "      <td>0.0<\/td>\n",
              "      <td>0.5380<\/td>\n",
              "      <td>5.727<\/td>\n",
              "      <td>69.5<\/td>\n",
              "      <td>3.7965<\/td>\n",
              "      <td>4.0<\/td>\n",
              "      <td>307.0<\/td>\n",
              "      <td>21.0<\/td>\n",
              "      <td>390.95<\/td>\n",
              "      <td>11.28<\/td>\n",
              "    <\/tr>\n",
              "    <tr>\n",
              "      <th>...<\/th>\n",
              "      <td>...<\/td>\n",
              "      <td>...<\/td>\n",
              "      <td>...<\/td>\n",
              "      <td>...<\/td>\n",
              "      <td>...<\/td>\n",
              "      <td>...<\/td>\n",
              "      <td>...<\/td>\n",
              "      <td>...<\/td>\n",
              "      <td>...<\/td>\n",
              "      <td>...<\/td>\n",
              "      <td>...<\/td>\n",
              "      <td>...<\/td>\n",
              "      <td>...<\/td>\n",
              "    <\/tr>\n",
              "    <tr>\n",
              "      <th>106<\/th>\n",
              "      <td>0.17120<\/td>\n",
              "      <td>0.0<\/td>\n",
              "      <td>8.56<\/td>\n",
              "      <td>0.0<\/td>\n",
              "      <td>0.5200<\/td>\n",
              "      <td>5.836<\/td>\n",
              "      <td>91.9<\/td>\n",
              "      <td>2.2110<\/td>\n",
              "      <td>5.0<\/td>\n",
              "      <td>384.0<\/td>\n",
              "      <td>20.9<\/td>\n",
              "      <td>395.67<\/td>\n",
              "      <td>18.66<\/td>\n",
              "    <\/tr>\n",
              "    <tr>\n",
              "      <th>270<\/th>\n",
              "      <td>0.29916<\/td>\n",
              "      <td>20.0<\/td>\n",
              "      <td>6.96<\/td>\n",
              "      <td>0.0<\/td>\n",
              "      <td>0.4640<\/td>\n",
              "      <td>5.856<\/td>\n",
              "      <td>42.1<\/td>\n",
              "      <td>4.4290<\/td>\n",
              "      <td>3.0<\/td>\n",
              "      <td>223.0<\/td>\n",
              "      <td>18.6<\/td>\n",
              "      <td>388.65<\/td>\n",
              "      <td>13.00<\/td>\n",
              "    <\/tr>\n",
              "    <tr>\n",
              "      <th>348<\/th>\n",
              "      <td>0.01501<\/td>\n",
              "      <td>80.0<\/td>\n",
              "      <td>2.01<\/td>\n",
              "      <td>0.0<\/td>\n",
              "      <td>0.4350<\/td>\n",
              "      <td>6.635<\/td>\n",
              "      <td>29.7<\/td>\n",
              "      <td>8.3440<\/td>\n",
              "      <td>4.0<\/td>\n",
              "      <td>280.0<\/td>\n",
              "      <td>17.0<\/td>\n",
              "      <td>390.94<\/td>\n",
              "      <td>5.99<\/td>\n",
              "    <\/tr>\n",
              "    <tr>\n",
              "      <th>435<\/th>\n",
              "      <td>11.16040<\/td>\n",
              "      <td>0.0<\/td>\n",
              "      <td>18.10<\/td>\n",
              "      <td>0.0<\/td>\n",
              "      <td>0.7400<\/td>\n",
              "      <td>6.629<\/td>\n",
              "      <td>94.6<\/td>\n",
              "      <td>2.1247<\/td>\n",
              "      <td>24.0<\/td>\n",
              "      <td>666.0<\/td>\n",
              "      <td>20.2<\/td>\n",
              "      <td>109.85<\/td>\n",
              "      <td>23.27<\/td>\n",
              "    <\/tr>\n",
              "    <tr>\n",
              "      <th>102<\/th>\n",
              "      <td>0.22876<\/td>\n",
              "      <td>0.0<\/td>\n",
              "      <td>8.56<\/td>\n",
              "      <td>0.0<\/td>\n",
              "      <td>0.5200<\/td>\n",
              "      <td>6.405<\/td>\n",
              "      <td>85.4<\/td>\n",
              "      <td>2.7147<\/td>\n",
              "      <td>5.0<\/td>\n",
              "      <td>384.0<\/td>\n",
              "      <td>20.9<\/td>\n",
              "      <td>70.80<\/td>\n",
              "      <td>10.63<\/td>\n",
              "    <\/tr>\n",
              "  <\/tbody>\n",
              "<\/table>\n",
              "<p>404 rows × 13 columns<\/p>\n",
              "<\/div>"
            ]
          },
          "metadata":{
            
          },
          "output_type":"display_data"
        }
      ],
      "metadata":{
        
      }
    },
    {
      "cell_type":"code",
      "source":[
        "from sklearn.manifold import TSNE\n",
        "\n",
        "tsne = TSNE(n_components=2, learning_rate=250, random_state=42)\n",
        "X_tsne = tsne.fit_transform(X_train)\n",
        "sns.scatterplot(x=X_tsne[:, 0], y=X_tsne[:, 1])"
      ],
      "execution_count":0,
      "outputs":[
        {
          "data":{
            "text\/plain":[
              "<AxesSubplot:>"
            ],
            "image\/png":"[encoded data removed]"
          },
          "metadata":{
            "image\/png":{
              "width":0,
              "height":0
            }
          },
          "output_type":"display_data"
        }
      ],
      "metadata":{
        
      }
    },
    {
      "cell_type":"code",
      "source":[
        
      ],
      "execution_count":0,
      "outputs":[
        
      ],
      "metadata":{
        
      }
    }
  ],
  "metadata":{
    
  },
  "nbformat":4,
  "nbformat_minor":0
}